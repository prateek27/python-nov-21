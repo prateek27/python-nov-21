{
 "cells": [
  {
   "cell_type": "markdown",
   "id": "b33cd737",
   "metadata": {},
   "source": [
    "# Higher order functions\n",
    "- Everything in Python is object, including functions.\n",
    "- functions that take other functions as arguments are also called higher order functions."
   ]
  },
  {
   "cell_type": "code",
   "execution_count": 1,
   "id": "9c10282e",
   "metadata": {},
   "outputs": [],
   "source": [
    "def add(ele):\n",
    "    return ele + 1"
   ]
  },
  {
   "cell_type": "code",
   "execution_count": 2,
   "id": "d6e481f4",
   "metadata": {},
   "outputs": [],
   "source": [
    "def sub(ele):\n",
    "    return ele - 1"
   ]
  },
  {
   "cell_type": "markdown",
   "id": "c880e562",
   "metadata": {},
   "source": [
    "We can pass functions as arguments to other functions."
   ]
  },
  {
   "cell_type": "code",
   "execution_count": 5,
   "id": "e440b612",
   "metadata": {},
   "outputs": [],
   "source": [
    "def calculate(operator, number):\n",
    "    result = operator(number)\n",
    "    return result"
   ]
  },
  {
   "cell_type": "code",
   "execution_count": 6,
   "id": "20525957",
   "metadata": {
    "scrolled": true
   },
   "outputs": [
    {
     "name": "stdout",
     "output_type": "stream",
     "text": [
      "46\n"
     ]
    }
   ],
   "source": [
    "print(calculate(add, 45))\n",
    "\n",
    "# Pass the 'add' function as an argument to 'calculate' function"
   ]
  },
  {
   "cell_type": "code",
   "execution_count": 7,
   "id": "a883ddc3",
   "metadata": {},
   "outputs": [
    {
     "name": "stdout",
     "output_type": "stream",
     "text": [
      "19\n"
     ]
    }
   ],
   "source": [
    "print(calculate(sub, 20))"
   ]
  },
  {
   "cell_type": "code",
   "execution_count": null,
   "id": "8a9f6566",
   "metadata": {},
   "outputs": [],
   "source": []
  },
  {
   "cell_type": "code",
   "execution_count": null,
   "id": "0fe7fe48",
   "metadata": {},
   "outputs": [],
   "source": []
  },
  {
   "cell_type": "markdown",
   "id": "60fe7d4c",
   "metadata": {},
   "source": [
    "# Python Decorators"
   ]
  },
  {
   "cell_type": "markdown",
   "id": "fb011276",
   "metadata": {},
   "source": [
    "A decorator takes a function as arguments, adds some functionality to the exisiting code and returns a function."
   ]
  },
  {
   "cell_type": "markdown",
   "id": "04091584",
   "metadata": {},
   "source": [
    "![](https://media.giphy.com/media/xUySTJhx2jKGQX2L2E/giphy.gif)"
   ]
  },
  {
   "cell_type": "code",
   "execution_count": 8,
   "id": "72dd6087",
   "metadata": {},
   "outputs": [],
   "source": [
    "def hello():\n",
    "    print(\"Hello world\")"
   ]
  },
  {
   "cell_type": "code",
   "execution_count": 9,
   "id": "8dbb6fe0",
   "metadata": {},
   "outputs": [
    {
     "name": "stdout",
     "output_type": "stream",
     "text": [
      "Hello world\n"
     ]
    }
   ],
   "source": [
    "hello()"
   ]
  },
  {
   "cell_type": "code",
   "execution_count": 14,
   "id": "197bf809",
   "metadata": {},
   "outputs": [
    {
     "data": {
      "text/plain": [
       "<function __main__.hello()>"
      ]
     },
     "execution_count": 14,
     "metadata": {},
     "output_type": "execute_result"
    }
   ],
   "source": [
    "hello"
   ]
  },
  {
   "cell_type": "code",
   "execution_count": null,
   "id": "504b1e40",
   "metadata": {},
   "outputs": [],
   "source": []
  },
  {
   "cell_type": "code",
   "execution_count": 10,
   "id": "dec2117f",
   "metadata": {},
   "outputs": [],
   "source": [
    "# Decorator\n",
    "def add_features(func):\n",
    "    def wrapper():\n",
    "        print(\"Some stuff before calling the original function\")\n",
    "        \n",
    "        func()    # original function\n",
    "        \n",
    "        print(\"Some stuff after calling the original function\")\n",
    "        \n",
    "        \n",
    "        \n",
    "    return wrapper"
   ]
  },
  {
   "cell_type": "code",
   "execution_count": 11,
   "id": "f72f4c32",
   "metadata": {},
   "outputs": [],
   "source": [
    "new_func = add_features(hello)"
   ]
  },
  {
   "cell_type": "code",
   "execution_count": 12,
   "id": "7d4f65fc",
   "metadata": {},
   "outputs": [
    {
     "name": "stdout",
     "output_type": "stream",
     "text": [
      "Some stuff before calling the original function\n",
      "Hello world\n",
      "Some stuff after calling the original function\n"
     ]
    }
   ],
   "source": [
    "new_func()"
   ]
  },
  {
   "cell_type": "code",
   "execution_count": 13,
   "id": "510f886a",
   "metadata": {},
   "outputs": [
    {
     "data": {
      "text/plain": [
       "<function __main__.add_features.<locals>.wrapper()>"
      ]
     },
     "execution_count": 13,
     "metadata": {},
     "output_type": "execute_result"
    }
   ],
   "source": [
    "new_func"
   ]
  },
  {
   "cell_type": "markdown",
   "id": "6654f401",
   "metadata": {},
   "source": [
    "## The Decorative call..."
   ]
  },
  {
   "cell_type": "markdown",
   "id": "46a6451b",
   "metadata": {},
   "source": [
    "We can use the @ symbol along with the name of the decorator function and place it above the definition of the function to be decorated.\n"
   ]
  },
  {
   "cell_type": "code",
   "execution_count": 15,
   "id": "50c667c5",
   "metadata": {},
   "outputs": [],
   "source": [
    "@add_features\n",
    "def hola():\n",
    "    print(\"hola amigos\")"
   ]
  },
  {
   "cell_type": "code",
   "execution_count": 16,
   "id": "557d288f",
   "metadata": {},
   "outputs": [
    {
     "name": "stdout",
     "output_type": "stream",
     "text": [
      "Some stuff before calling the original function\n",
      "hola amigos\n",
      "Some stuff after calling the original function\n"
     ]
    }
   ],
   "source": [
    "hola()"
   ]
  },
  {
   "cell_type": "code",
   "execution_count": null,
   "id": "fcfd0775",
   "metadata": {},
   "outputs": [],
   "source": []
  },
  {
   "cell_type": "code",
   "execution_count": null,
   "id": "9610b475",
   "metadata": {},
   "outputs": [],
   "source": []
  },
  {
   "cell_type": "code",
   "execution_count": null,
   "id": "4472807f",
   "metadata": {},
   "outputs": [],
   "source": []
  },
  {
   "cell_type": "markdown",
   "id": "87c32254",
   "metadata": {},
   "source": [
    "## Decorating Function with parameters"
   ]
  },
  {
   "cell_type": "code",
   "execution_count": 17,
   "id": "6352e06d",
   "metadata": {},
   "outputs": [],
   "source": [
    "DB = {\n",
    "    'spiderman': 'parker',\n",
    "    'batman': 'wayne',\n",
    "    'daredevil': 'murdock'\n",
    "}"
   ]
  },
  {
   "cell_type": "code",
   "execution_count": 30,
   "id": "edd99a80",
   "metadata": {},
   "outputs": [],
   "source": [
    "# decorator\n",
    "def login(func):\n",
    "    def wrapper(username, password, *args, **kwargs):\n",
    "        if username in DB and DB[username] == password:\n",
    "            # successful\n",
    "            return func(*args, **kwargs)\n",
    "        else:\n",
    "            print(\"Authentication failed\")\n",
    "            \n",
    "    return wrapper"
   ]
  },
  {
   "cell_type": "code",
   "execution_count": 42,
   "id": "fd277278",
   "metadata": {},
   "outputs": [],
   "source": [
    "@login\n",
    "def add(*args):\n",
    "    s = 0\n",
    "    for x in args:\n",
    "        s += x\n",
    "    return s"
   ]
  },
  {
   "cell_type": "code",
   "execution_count": 43,
   "id": "cc45dae6",
   "metadata": {},
   "outputs": [
    {
     "name": "stdout",
     "output_type": "stream",
     "text": [
      "180\n"
     ]
    }
   ],
   "source": [
    "print(add('daredevil', 'murdock', 50, 60 ,70))"
   ]
  },
  {
   "cell_type": "code",
   "execution_count": 34,
   "id": "b4efe156",
   "metadata": {},
   "outputs": [
    {
     "name": "stdout",
     "output_type": "stream",
     "text": [
      "Authentication failed\n"
     ]
    }
   ],
   "source": [
    "add('tarun', 'luthra', 50)"
   ]
  },
  {
   "cell_type": "code",
   "execution_count": null,
   "id": "98a3d1c9",
   "metadata": {},
   "outputs": [],
   "source": []
  },
  {
   "cell_type": "code",
   "execution_count": null,
   "id": "21f8949a",
   "metadata": {},
   "outputs": [],
   "source": []
  },
  {
   "cell_type": "code",
   "execution_count": null,
   "id": "1e3a639d",
   "metadata": {},
   "outputs": [],
   "source": [
    "def some_random_func(x,y):\n",
    "    pass"
   ]
  },
  {
   "cell_type": "code",
   "execution_count": null,
   "id": "5f533df9",
   "metadata": {},
   "outputs": [],
   "source": [
    "some_random_func(x = 5, y = 2)"
   ]
  },
  {
   "cell_type": "code",
   "execution_count": 21,
   "id": "318457a4",
   "metadata": {},
   "outputs": [],
   "source": [
    "def sum2(*args):\n",
    "    print(type(args))\n",
    "    s = 0\n",
    "    for x in args:\n",
    "        s += x\n",
    "    return s"
   ]
  },
  {
   "cell_type": "code",
   "execution_count": 22,
   "id": "26986456",
   "metadata": {},
   "outputs": [
    {
     "name": "stdout",
     "output_type": "stream",
     "text": [
      "<class 'tuple'>\n",
      "2482\n"
     ]
    }
   ],
   "source": [
    "print(sum2(1,5,23,5,2435,1,6,4,2))"
   ]
  },
  {
   "cell_type": "code",
   "execution_count": 23,
   "id": "33bea17c",
   "metadata": {},
   "outputs": [],
   "source": [
    "def abc(**kwargs):\n",
    "#     kwargs is a dictionary with key word arguments\n",
    "    print(kwargs)\n",
    "    "
   ]
  },
  {
   "cell_type": "code",
   "execution_count": 24,
   "id": "1b3bf0cb",
   "metadata": {},
   "outputs": [
    {
     "name": "stdout",
     "output_type": "stream",
     "text": [
      "{'name': 'tarun', 'age': 100, 'profession': 'Instructor'}\n"
     ]
    }
   ],
   "source": [
    "abc(name=\"tarun\", age=100, profession=\"Instructor\")"
   ]
  },
  {
   "cell_type": "code",
   "execution_count": null,
   "id": "d5d6087e",
   "metadata": {},
   "outputs": [],
   "source": []
  },
  {
   "cell_type": "markdown",
   "id": "eecf43bc",
   "metadata": {},
   "source": [
    "## Chaining Decorators in Python\n",
    "- Multiple decorators can be chained in Python.\n",
    "- A function can be decorated multiple times with different decorators."
   ]
  },
  {
   "cell_type": "code",
   "execution_count": 35,
   "id": "b1d21c71",
   "metadata": {},
   "outputs": [],
   "source": [
    "# decorator function\n",
    "def star(func):\n",
    "    def wrapper(*args, **kwargs):\n",
    "        print(\"*\"*30)\n",
    "        func(*args, **kwargs)\n",
    "        print(\"*\"*30)\n",
    "    return wrapper\n",
    "\n",
    "\n",
    "# decorator function\n",
    "def dollar(func):\n",
    "    def wrapper(*args, **kwargs):\n",
    "        print(\"$\"*30)\n",
    "        func(*args, **kwargs)\n",
    "        print(\"$\"*30)\n",
    "    return wrapper"
   ]
  },
  {
   "cell_type": "code",
   "execution_count": 40,
   "id": "2e89311e",
   "metadata": {},
   "outputs": [],
   "source": [
    "@dollar\n",
    "@star\n",
    "def hello(name):\n",
    "    print(\"Hello \"+name)"
   ]
  },
  {
   "cell_type": "code",
   "execution_count": 41,
   "id": "cf9d2896",
   "metadata": {},
   "outputs": [
    {
     "name": "stdout",
     "output_type": "stream",
     "text": [
      "$$$$$$$$$$$$$$$$$$$$$$$$$$$$$$\n",
      "******************************\n",
      "Hello Tarun\n",
      "******************************\n",
      "$$$$$$$$$$$$$$$$$$$$$$$$$$$$$$\n"
     ]
    }
   ],
   "source": [
    "hello(\"Tarun\")"
   ]
  },
  {
   "cell_type": "code",
   "execution_count": null,
   "id": "18a303c7",
   "metadata": {},
   "outputs": [],
   "source": []
  }
 ],
 "metadata": {
  "kernelspec": {
   "display_name": "Python 3 (ipykernel)",
   "language": "python",
   "name": "python3"
  },
  "language_info": {
   "codemirror_mode": {
    "name": "ipython",
    "version": 3
   },
   "file_extension": ".py",
   "mimetype": "text/x-python",
   "name": "python",
   "nbconvert_exporter": "python",
   "pygments_lexer": "ipython3",
   "version": "3.9.7"
  }
 },
 "nbformat": 4,
 "nbformat_minor": 5
}
