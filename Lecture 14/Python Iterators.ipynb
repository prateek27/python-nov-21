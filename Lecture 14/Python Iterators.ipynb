{
 "cells": [
  {
   "cell_type": "markdown",
   "id": "f1778ea9",
   "metadata": {},
   "source": [
    "## Python Iterators\n",
    "- Iterators are objects that can be iterated upon.\n",
    "- Terminology : iterator, iterable, iteration.\n"
   ]
  },
  {
   "cell_type": "markdown",
   "id": "728bcc2f",
   "metadata": {},
   "source": [
    "![](./runner.gif)"
   ]
  },
  {
   "cell_type": "markdown",
   "id": "54ce87d6",
   "metadata": {},
   "source": [
    "### Iterator\n",
    "- Any object that you can traverse upon is an iterator. An object which will return data, one element at a time.\n",
    "- Python iterator object must implement two special methods, __iter__() and __next__() , known as iterator protocol."
   ]
  },
  {
   "cell_type": "markdown",
   "id": "0e8e65bf",
   "metadata": {},
   "source": [
    "### Iterable\n",
    "- An object is called iterable if we can get an iterator from it. Examples - list, tuple, string etc. are iterables."
   ]
  },
  {
   "cell_type": "markdown",
   "id": "622eb5a3",
   "metadata": {},
   "source": [
    "### Iteration\n",
    "- repetiton of the process.\n",
    "- basically looping\n"
   ]
  },
  {
   "cell_type": "code",
   "execution_count": null,
   "id": "0781daff",
   "metadata": {},
   "outputs": [],
   "source": [
    "nums = [1,5,6,7,2,8]\n",
    "for x in nums:\n",
    "    print(x)"
   ]
  },
  {
   "cell_type": "code",
   "execution_count": null,
   "id": "8fda242a",
   "metadata": {},
   "outputs": [],
   "source": [
    "dir(nums)"
   ]
  },
  {
   "cell_type": "code",
   "execution_count": null,
   "id": "820b2fca",
   "metadata": {},
   "outputs": [],
   "source": [
    "# my_iter = nums.__iter__()\n",
    "my_iter = iter(nums)"
   ]
  },
  {
   "cell_type": "code",
   "execution_count": null,
   "id": "0e68a117",
   "metadata": {},
   "outputs": [],
   "source": [
    "print(my_iter)"
   ]
  },
  {
   "cell_type": "code",
   "execution_count": null,
   "id": "76dc08ba",
   "metadata": {},
   "outputs": [],
   "source": [
    "# my_iter.__next__()\n",
    "next(my_iter)"
   ]
  },
  {
   "cell_type": "code",
   "execution_count": null,
   "id": "7d7c5f2f",
   "metadata": {},
   "outputs": [],
   "source": [
    "# my_iter.__next__()\n",
    "next(my_iter)"
   ]
  },
  {
   "cell_type": "code",
   "execution_count": null,
   "id": "1a7a987e",
   "metadata": {},
   "outputs": [],
   "source": [
    "# my_iter.__next__()\n",
    "next(my_iter)"
   ]
  },
  {
   "cell_type": "code",
   "execution_count": null,
   "id": "8ff7ed44",
   "metadata": {},
   "outputs": [],
   "source": [
    "my_iter.__next__()"
   ]
  },
  {
   "cell_type": "code",
   "execution_count": null,
   "id": "154d97b0",
   "metadata": {},
   "outputs": [],
   "source": [
    "my_iter.__next__()"
   ]
  },
  {
   "cell_type": "code",
   "execution_count": null,
   "id": "230c489a",
   "metadata": {},
   "outputs": [],
   "source": [
    "my_iter.__next__()"
   ]
  },
  {
   "cell_type": "code",
   "execution_count": null,
   "id": "d8646702",
   "metadata": {},
   "outputs": [],
   "source": [
    "my_iter.__next__()"
   ]
  },
  {
   "cell_type": "code",
   "execution_count": null,
   "id": "77b361b3",
   "metadata": {},
   "outputs": [],
   "source": [
    "for x in nums:\n",
    "    print(x)"
   ]
  },
  {
   "cell_type": "code",
   "execution_count": null,
   "id": "58fbe622",
   "metadata": {},
   "outputs": [],
   "source": [
    "it = iter(nums)\n",
    "while True:\n",
    "    try:\n",
    "        next(it)\n",
    "        print(it)\n",
    "    except StopIteration:\n",
    "        print(\"Loop over\")\n",
    "        break"
   ]
  },
  {
   "cell_type": "code",
   "execution_count": null,
   "id": "852bd762",
   "metadata": {},
   "outputs": [],
   "source": []
  },
  {
   "cell_type": "markdown",
   "id": "a7aa66be",
   "metadata": {},
   "source": [
    "## Loops for Iterators\n",
    "- A more elegant way of automatically iterating is by using the for loop.\n",
    "- We can iterate over any object that can return an iterator, for example list, string, file etc.\n"
   ]
  },
  {
   "cell_type": "code",
   "execution_count": null,
   "id": "834e3ea2",
   "metadata": {},
   "outputs": [],
   "source": [
    "for x in my_list:\n",
    "    print(x)"
   ]
  },
  {
   "cell_type": "code",
   "execution_count": null,
   "id": "a1089265",
   "metadata": {},
   "outputs": [],
   "source": [
    "my_list = [4,2,5,6,1]\n",
    "my_iter = iter(my_list)\n",
    "\n",
    "# infinite while loop\n",
    "while True:\n",
    "    try:\n",
    "        # getting the next element\n",
    "        ele = next(my_iter)\n",
    "        print(ele)\n",
    "    except StopIteration:\n",
    "        # all the elements are exhausated.\n",
    "        break"
   ]
  },
  {
   "cell_type": "code",
   "execution_count": null,
   "id": "69fb57b6",
   "metadata": {},
   "outputs": [],
   "source": []
  },
  {
   "cell_type": "code",
   "execution_count": null,
   "id": "c11881ba",
   "metadata": {},
   "outputs": [],
   "source": []
  },
  {
   "cell_type": "markdown",
   "id": "f47f576e",
   "metadata": {},
   "source": [
    "![](https://media.giphy.com/media/116n6kcHaFbw3e/giphy.gif)"
   ]
  },
  {
   "cell_type": "markdown",
   "id": "f6555bfa",
   "metadata": {},
   "source": [
    "## Building Custom Iterators"
   ]
  },
  {
   "cell_type": "markdown",
   "id": "77aa998a",
   "metadata": {},
   "source": [
    "- Every custom iterator must implement the ```__iter__()``` and the ```__next__()``` methods.\n",
    "- The ```__iter__()``` method returns the iterator object itself.\n",
    "- The ```__next__()``` method must return the next item in the sequence. On reaching the last element, it must raise StopIteration."
   ]
  },
  {
   "cell_type": "code",
   "execution_count": 1,
   "id": "58426b0d",
   "metadata": {},
   "outputs": [],
   "source": [
    "class EvenNumber:\n",
    "    def __init__(self):\n",
    "        self.num = 0\n",
    "        \n",
    "    def __iter__(self):\n",
    "#         must return the current object\n",
    "#         current object is referred to by 'self'\n",
    "        return self\n",
    "    \n",
    "    def __next__(self):\n",
    "        self.num += 2\n",
    "        return self.num"
   ]
  },
  {
   "cell_type": "code",
   "execution_count": 8,
   "id": "b648e2d1",
   "metadata": {},
   "outputs": [],
   "source": [
    "even = EvenNumber()"
   ]
  },
  {
   "cell_type": "code",
   "execution_count": 9,
   "id": "ca095afe",
   "metadata": {},
   "outputs": [],
   "source": [
    "my_iter = even.__iter__()   # iter(even)"
   ]
  },
  {
   "cell_type": "code",
   "execution_count": 10,
   "id": "914ef4c7",
   "metadata": {},
   "outputs": [
    {
     "data": {
      "text/plain": [
       "<__main__.EvenNumber at 0x10387e610>"
      ]
     },
     "execution_count": 10,
     "metadata": {},
     "output_type": "execute_result"
    }
   ],
   "source": [
    "my_iter"
   ]
  },
  {
   "cell_type": "code",
   "execution_count": 11,
   "id": "43564989",
   "metadata": {},
   "outputs": [
    {
     "data": {
      "text/plain": [
       "2"
      ]
     },
     "execution_count": 11,
     "metadata": {},
     "output_type": "execute_result"
    }
   ],
   "source": [
    "next(my_iter)"
   ]
  },
  {
   "cell_type": "code",
   "execution_count": 12,
   "id": "a20312d4",
   "metadata": {},
   "outputs": [
    {
     "data": {
      "text/plain": [
       "4"
      ]
     },
     "execution_count": 12,
     "metadata": {},
     "output_type": "execute_result"
    }
   ],
   "source": [
    "next(my_iter)"
   ]
  },
  {
   "cell_type": "code",
   "execution_count": 13,
   "id": "4a706f29",
   "metadata": {},
   "outputs": [
    {
     "data": {
      "text/plain": [
       "6"
      ]
     },
     "execution_count": 13,
     "metadata": {},
     "output_type": "execute_result"
    }
   ],
   "source": [
    "next(my_iter)"
   ]
  },
  {
   "cell_type": "code",
   "execution_count": 14,
   "id": "34ef20a4",
   "metadata": {},
   "outputs": [
    {
     "data": {
      "text/plain": [
       "8"
      ]
     },
     "execution_count": 14,
     "metadata": {},
     "output_type": "execute_result"
    }
   ],
   "source": [
    "next(my_iter)"
   ]
  },
  {
   "cell_type": "code",
   "execution_count": 15,
   "id": "732df014",
   "metadata": {},
   "outputs": [
    {
     "name": "stdout",
     "output_type": "stream",
     "text": [
      "10\n",
      "12\n",
      "14\n",
      "16\n",
      "18\n",
      "20\n",
      "22\n",
      "24\n",
      "26\n",
      "28\n"
     ]
    }
   ],
   "source": [
    "for i in range(10):\n",
    "    print(next(my_iter))"
   ]
  },
  {
   "cell_type": "code",
   "execution_count": null,
   "id": "bffba5a5",
   "metadata": {},
   "outputs": [],
   "source": []
  }
 ],
 "metadata": {
  "kernelspec": {
   "display_name": "Python 3 (ipykernel)",
   "language": "python",
   "name": "python3"
  },
  "language_info": {
   "codemirror_mode": {
    "name": "ipython",
    "version": 3
   },
   "file_extension": ".py",
   "mimetype": "text/x-python",
   "name": "python",
   "nbconvert_exporter": "python",
   "pygments_lexer": "ipython3",
   "version": "3.9.7"
  }
 },
 "nbformat": 4,
 "nbformat_minor": 5
}
